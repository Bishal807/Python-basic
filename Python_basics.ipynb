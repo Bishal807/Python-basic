{
  "nbformat": 4,
  "nbformat_minor": 0,
  "metadata": {
    "colab": {
      "provenance": []
    },
    "kernelspec": {
      "name": "python3",
      "display_name": "Python 3"
    },
    "language_info": {
      "name": "python"
    }
  },
  "cells": [
    {
      "cell_type": "code",
      "source": [
        "                                                                    #theoretical questions\n",
        "\n",
        "# 1. Python is a programing language that is widely used in the industry, it is used for many task including web development,machine learning, and data analysis. It is popular for many reasons as:-\n",
        "#    * Used by many data industries.\n",
        "#    * it has a huge sets of libraries.\n",
        "#    * it has flexible frontend backend, data analysis.\n",
        "#    * image processing.\n",
        "# 2. A Python interpreter is a computer program that takes the Python code and converts it into machine code.\n",
        "# 3. pre-defined keywords are words that holds a special meaning and specific perform in python. list of key word as shown below\n",
        "\n",
        "#                                   False               class               from                or\n",
        "#                                   None                continue            global              pass\n",
        "#                                   True                def                 if                  raise\n",
        "#                                   and                 del                 import              return\n",
        "#                                   as                  elif                in                  try\n",
        "#                                   assert              else                is                  while\n",
        "#                                   async               except              lambda              with\n",
        "#                                   await               finally             nonlocal            yield\n",
        "#                                   break               for                 not\n",
        "# 4. No, we cant use variable names as keywords.\n",
        "# 5. mutability means create changes or edit.\n",
        "# 6. list mutable means changes while creating a list, tuples are immutable meaning their contents cannot be changed after creation.\n",
        "# 7. '==' used for compairing>> compairing two values and 'is' operator is used for compairing the memory location of two object.\n",
        "# 8. logical opperator is which the python use logical decision, it uses 'and','or','not'.\n",
        "# 9. type casting is the process of changing the data type of a value/object while executing/computation using operators.\n",
        "# 10. implicit type casting is where python only understand the datatype.\n",
        "# 11. explicit type casting convert data type using inbuilt function, ex- str, int, float, bool.\n",
        "# 12. elif statement nothing but the use of both else and if together.\n",
        "# 13. while loops are the block of code which is repeatedly executed until a condition is met, for loops iterate over a sequence of elements in string,list.\n",
        "\n",
        "\n",
        "\n",
        "\n",
        "\n",
        "\n",
        "\n",
        "\n",
        "\n",
        "\n",
        "                                                            #pratical questions\n"
      ],
      "metadata": {
        "id": "tyIpOfQT08mz"
      },
      "execution_count": null,
      "outputs": []
    },
    {
      "cell_type": "code",
      "source": [
        "#1\n",
        "print(\"hello world!\")\n"
      ],
      "metadata": {
        "colab": {
          "base_uri": "https://localhost:8080/"
        },
        "id": "iPmo3EfNQtuh",
        "outputId": "53c4503b-599f-4d33-e168-ff771b3ed451"
      },
      "execution_count": null,
      "outputs": [
        {
          "output_type": "stream",
          "name": "stdout",
          "text": [
            "hello world!\n"
          ]
        }
      ]
    },
    {
      "cell_type": "code",
      "source": [
        "#2\n",
        "name=input(\"enter name:\")\n",
        "age=input(\"enter age: \")"
      ],
      "metadata": {
        "colab": {
          "base_uri": "https://localhost:8080/"
        },
        "id": "5G3mO3-HR1ZA",
        "outputId": "141fc245-cdb4-4495-c02a-ccbba27acc3f"
      },
      "execution_count": null,
      "outputs": [
        {
          "name": "stdout",
          "output_type": "stream",
          "text": [
            "enter name:bishal aich \n",
            "enter age: 24\n"
          ]
        }
      ]
    },
    {
      "cell_type": "code",
      "source": [
        "#3\n",
        "help('keywords')\n"
      ],
      "metadata": {
        "colab": {
          "base_uri": "https://localhost:8080/"
        },
        "id": "7IJkE2j2zlEw",
        "outputId": "d9a6b3af-a836-4c36-f575-a8642a272267"
      },
      "execution_count": 2,
      "outputs": [
        {
          "output_type": "stream",
          "name": "stdout",
          "text": [
            "\n",
            "Here is a list of the Python keywords.  Enter any keyword to get more help.\n",
            "\n",
            "False               class               from                or\n",
            "None                continue            global              pass\n",
            "True                def                 if                  raise\n",
            "and                 del                 import              return\n",
            "as                  elif                in                  try\n",
            "assert              else                is                  while\n",
            "async               except              lambda              with\n",
            "await               finally             nonlocal            yield\n",
            "break               for                 not                 \n",
            "\n"
          ]
        }
      ]
    },
    {
      "cell_type": "code",
      "source": [
        "#4\n",
        "\n",
        "s = 'for'\n",
        "\n",
        "# Check if it's a Python keyword\n",
        "if keyword.iskeyword(s):\n",
        "   print(f\"'{s}' is a Python keyword.\")\n",
        "else:\n",
        "    print(f\"'{s}' is not a Python keyword.\")"
      ],
      "metadata": {
        "colab": {
          "base_uri": "https://localhost:8080/"
        },
        "id": "c2o5u2s92rVg",
        "outputId": "b164f71a-4826-42f8-ff79-17ce4e76e258"
      },
      "execution_count": 8,
      "outputs": [
        {
          "output_type": "stream",
          "name": "stdout",
          "text": [
            "'for' is a Python keyword.\n"
          ]
        }
      ]
    },
    {
      "cell_type": "code",
      "source": [
        "#5\n",
        "# Create a list and a tuple\n",
        "my_list = [1, 2, 3]\n",
        "my_tuple = (1, 2, 3)\n",
        "\n",
        "# Modify an element in the list\n",
        "print(\"Original list:\", my_list)\n",
        "my_list[1] = 99\n",
        "print(\"Modified list:\", my_list)\n",
        "\n",
        "# Attempt to modify an element in the tuple\n",
        "print(\"Original tuple:\", my_tuple)\n",
        "try:\n",
        "    my_tuple[1] = 99\n",
        "except TypeError as e:\n",
        "    print(\"Error when modifying tuple:\", e)\n"
      ],
      "metadata": {
        "colab": {
          "base_uri": "https://localhost:8080/"
        },
        "id": "JyMoog9a21cH",
        "outputId": "e98f0383-5c29-4cc0-915c-58540172c881"
      },
      "execution_count": 9,
      "outputs": [
        {
          "output_type": "stream",
          "name": "stdout",
          "text": [
            "Original list: [1, 2, 3]\n",
            "Modified list: [1, 99, 3]\n",
            "Original tuple: (1, 2, 3)\n",
            "Error when modifying tuple: 'tuple' object does not support item assignment\n"
          ]
        }
      ]
    },
    {
      "cell_type": "code",
      "source": [
        "#6\n",
        "def demonstrate_mutable_immutable(arg1, arg2):\n",
        "    \"\"\"\n",
        "    Demonstrates how mutable and immutable arguments behave in a function.\n",
        "    \"\"\"\n",
        "    print(\"\\nInside the function:\")\n",
        "    print(f\"Original arg1 (mutable): {arg1}\")\n",
        "    print(f\"Original arg2 (immutable): {arg2}\")\n",
        "\n",
        "    # Attempt to modify the arguments\n",
        "    arg1.append(4)  # Modify the mutable object (list)\n",
        "    arg2 += 1       # Attempt to modify the immutable object (integer)\n",
        "\n",
        "    print(f\"Modified arg1 (mutable): {arg1}\")\n",
        "    print(f\"Modified arg2 (immutable): {arg2}\")\n",
        "\n",
        "\n",
        "# Driver code\n",
        "# Mutable object (list) and immutable object (integer)\n",
        "mutable_arg = [1, 2, 3]\n",
        "immutable_arg = 10\n",
        "\n",
        "print(\"Before the function call:\")\n",
        "print(f\"mutable_arg: {mutable_arg}\")\n",
        "print(f\"immutable_arg: {immutable_arg}\")\n",
        "\n",
        "# Call the function\n",
        "demonstrate_mutable_immutable(mutable_arg, immutable_arg)\n",
        "\n",
        "print(\"\\nAfter the function call:\")\n",
        "print(f\"mutable_arg: {mutable_arg}\")  # Changes persist\n",
        "print(f\"immutable_arg: {immutable_arg}\")  # Unchanged\n"
      ],
      "metadata": {
        "colab": {
          "base_uri": "https://localhost:8080/"
        },
        "id": "ZSMf9-dNGE7i",
        "outputId": "0bba5a19-ea40-4f33-d772-b48793af6f77"
      },
      "execution_count": 10,
      "outputs": [
        {
          "output_type": "stream",
          "name": "stdout",
          "text": [
            "Before the function call:\n",
            "mutable_arg: [1, 2, 3]\n",
            "immutable_arg: 10\n",
            "\n",
            "Inside the function:\n",
            "Original arg1 (mutable): [1, 2, 3]\n",
            "Original arg2 (immutable): 10\n",
            "Modified arg1 (mutable): [1, 2, 3, 4]\n",
            "Modified arg2 (immutable): 11\n",
            "\n",
            "After the function call:\n",
            "mutable_arg: [1, 2, 3, 4]\n",
            "immutable_arg: 10\n"
          ]
        }
      ]
    },
    {
      "cell_type": "code",
      "source": [
        "#7\n",
        "def demonstrate_logical_operators():\n",
        "    # Input values\n",
        "    a = int(input(\"Enter the first number (a): \"))\n",
        "    b = int(input(\"Enter the second number (b): \"))\n",
        "\n",
        "    # Logical AND\n",
        "    print(\"\\nLogical AND:\")\n",
        "    print(f\"a > 0 and b > 0: {a > 0 and b > 0}  # True if both conditions are True\")\n",
        "\n",
        "    # Logical OR\n",
        "    print(\"\\nLogical OR:\")\n",
        "    print(f\"a > 0 or b > 0: {a > 0 or b > 0}  # True if at least one condition is True\")\n",
        "\n",
        "    # Logical NOT\n",
        "    print(\"\\nLogical NOT:\")\n",
        "    print(f\"not (a > 0): {not (a > 0)}  # True if the condition is False\")\n",
        "\n",
        "    # Combining logical operators\n",
        "    print(\"\\nCombining logical operators:\")\n",
        "    print(f\"(a > 0 and b < 0) or (a < 0 and b > 0): {(a > 0 and b < 0) or (a < 0 and b > 0)}\")\n",
        "    print(\"  # True if one is positive and the other is negative\")\n",
        "\n",
        "\n",
        "# Run the program\n",
        "if __name__ == \"__main__\":\n",
        "    demonstrate_logical_operators()\n"
      ],
      "metadata": {
        "colab": {
          "base_uri": "https://localhost:8080/"
        },
        "id": "vGa-PjLlGwxR",
        "outputId": "49801150-ef79-4b62-a8ca-714d146570f3"
      },
      "execution_count": 11,
      "outputs": [
        {
          "output_type": "stream",
          "name": "stdout",
          "text": [
            "Enter the first number (a): 10\n",
            "Enter the second number (b): 5\n",
            "\n",
            "Logical AND:\n",
            "a > 0 and b > 0: True  # True if both conditions are True\n",
            "\n",
            "Logical OR:\n",
            "a > 0 or b > 0: True  # True if at least one condition is True\n",
            "\n",
            "Logical NOT:\n",
            "not (a > 0): False  # True if the condition is False\n",
            "\n",
            "Combining logical operators:\n",
            "(a > 0 and b < 0) or (a < 0 and b > 0): False\n",
            "  # True if one is positive and the other is negative\n"
          ]
        }
      ]
    },
    {
      "cell_type": "code",
      "source": [
        "#8 str to int\n",
        "a = \"20\"\n",
        "print(type(a))\n",
        "print(type(int(a)))"
      ],
      "metadata": {
        "colab": {
          "base_uri": "https://localhost:8080/"
        },
        "id": "lJrgEycwIGCK",
        "outputId": "98d86a8b-afa8-4ced-c6c1-cec77e3ee1cd"
      },
      "execution_count": 12,
      "outputs": [
        {
          "output_type": "stream",
          "name": "stdout",
          "text": [
            "<class 'str'>\n",
            "<class 'int'>\n"
          ]
        }
      ]
    },
    {
      "cell_type": "code",
      "source": [
        "# int to float\n",
        "b =16\n",
        "print(type(b))\n",
        "print(type (float(b)))\n"
      ],
      "metadata": {
        "colab": {
          "base_uri": "https://localhost:8080/"
        },
        "id": "VUhgr359Kafy",
        "outputId": "a1975d17-a476-456f-e9e6-2e44a3c09b2b"
      },
      "execution_count": 13,
      "outputs": [
        {
          "output_type": "stream",
          "name": "stdout",
          "text": [
            "<class 'int'>\n",
            "<class 'float'>\n"
          ]
        }
      ]
    },
    {
      "cell_type": "code",
      "source": [
        "# Convert float to boolean\n",
        "float_value = 3.14\n",
        "bool_value = bool(float_value)\n",
        "print(f\"Float {float_value} to boolean: {bool_value}\")  # True\n",
        "\n"
      ],
      "metadata": {
        "colab": {
          "base_uri": "https://localhost:8080/"
        },
        "id": "QnRjR6uAMUDS",
        "outputId": "0bee3efe-f349-454f-960e-6b9a913be14e"
      },
      "execution_count": 15,
      "outputs": [
        {
          "output_type": "stream",
          "name": "stdout",
          "text": [
            "Float 3.14 to boolean: True\n"
          ]
        }
      ]
    },
    {
      "cell_type": "code",
      "source": [
        "#10\n",
        "#type casting with list count\n",
        "list_cont=[1,2,3,4,5.3,'hello']\n",
        "list_cont\n",
        "list_cont[0]=2\n",
        "list_cont\n",
        "list_cont[3]='AKC'\n",
        "list_cont\n"
      ],
      "metadata": {
        "colab": {
          "base_uri": "https://localhost:8080/"
        },
        "id": "TxRe0muyM5Ca",
        "outputId": "0c000c2a-655a-4952-822f-1282e62b5606"
      },
      "execution_count": 8,
      "outputs": [
        {
          "output_type": "execute_result",
          "data": {
            "text/plain": [
              "[2, 2, 3, 'AKC', 5.3, 'hello']"
            ]
          },
          "metadata": {},
          "execution_count": 8
        }
      ]
    },
    {
      "cell_type": "code",
      "source": [
        "# 11\n",
        "# Prompt the user to input a number\n",
        "number = float(input(\"Enter a number: \"))\n",
        "\n",
        "# Check if the number is positive, negative, or zero\n",
        "if number > 0:\n",
        "    print(\"The number is positive.\")\n",
        "elif number < 0:\n",
        "    print(\"The number is negative.\")\n",
        "else:\n",
        "    print(\"The number is zero.\")\n"
      ],
      "metadata": {
        "colab": {
          "base_uri": "https://localhost:8080/"
        },
        "id": "GqesHyZjcScf",
        "outputId": "d2a58481-f53e-415c-c4e5-e8f7726ed0fd"
      },
      "execution_count": 9,
      "outputs": [
        {
          "output_type": "stream",
          "name": "stdout",
          "text": [
            "Enter a number: 3\n",
            "The number is positive.\n"
          ]
        }
      ]
    },
    {
      "cell_type": "code",
      "source": [
        "#12\n",
        "# Print numbers from 1 to 100\n",
        "for number in range(1, 101):\n",
        "    print(number)\n"
      ],
      "metadata": {
        "colab": {
          "base_uri": "https://localhost:8080/"
        },
        "id": "liYle805e2Jf",
        "outputId": "64d2ae3b-a688-4333-e23c-c1b790e302f7"
      },
      "execution_count": 10,
      "outputs": [
        {
          "output_type": "stream",
          "name": "stdout",
          "text": [
            "1\n",
            "2\n",
            "3\n",
            "4\n",
            "5\n",
            "6\n",
            "7\n",
            "8\n",
            "9\n",
            "10\n",
            "11\n",
            "12\n",
            "13\n",
            "14\n",
            "15\n",
            "16\n",
            "17\n",
            "18\n",
            "19\n",
            "20\n",
            "21\n",
            "22\n",
            "23\n",
            "24\n",
            "25\n",
            "26\n",
            "27\n",
            "28\n",
            "29\n",
            "30\n",
            "31\n",
            "32\n",
            "33\n",
            "34\n",
            "35\n",
            "36\n",
            "37\n",
            "38\n",
            "39\n",
            "40\n",
            "41\n",
            "42\n",
            "43\n",
            "44\n",
            "45\n",
            "46\n",
            "47\n",
            "48\n",
            "49\n",
            "50\n",
            "51\n",
            "52\n",
            "53\n",
            "54\n",
            "55\n",
            "56\n",
            "57\n",
            "58\n",
            "59\n",
            "60\n",
            "61\n",
            "62\n",
            "63\n",
            "64\n",
            "65\n",
            "66\n",
            "67\n",
            "68\n",
            "69\n",
            "70\n",
            "71\n",
            "72\n",
            "73\n",
            "74\n",
            "75\n",
            "76\n",
            "77\n",
            "78\n",
            "79\n",
            "80\n",
            "81\n",
            "82\n",
            "83\n",
            "84\n",
            "85\n",
            "86\n",
            "87\n",
            "88\n",
            "89\n",
            "90\n",
            "91\n",
            "92\n",
            "93\n",
            "94\n",
            "95\n",
            "96\n",
            "97\n",
            "98\n",
            "99\n",
            "100\n"
          ]
        }
      ]
    },
    {
      "cell_type": "code",
      "source": [
        "#13\n",
        "sum_even = 0\n",
        "for number in range(1, 80):\n",
        "    # Check if the number is even\n",
        "    if number % 2 == 0:\n",
        "        sum_even += number\n",
        "print(\"The sum of all even numbers between 1 and 50 is:\", sum_even)\n"
      ],
      "metadata": {
        "colab": {
          "base_uri": "https://localhost:8080/"
        },
        "id": "0bHWHD-VfI-f",
        "outputId": "02a961c6-be20-40a7-c13f-1ac0fc07a31f"
      },
      "execution_count": 13,
      "outputs": [
        {
          "output_type": "stream",
          "name": "stdout",
          "text": [
            "The sum of all even numbers between 1 and 50 is: 1560\n"
          ]
        }
      ]
    },
    {
      "cell_type": "code",
      "source": [
        "#14\n",
        "input_string = input(\"Enter a string to reverse: \")\n",
        "reversed_string = \"\"\n",
        "index = len(input_string) - 1\n",
        "while index >= 0:\n",
        "    reversed_string += input_string[index]\n",
        "    index -= 1\n",
        "print(\"Reversed string:\", reversed_string)\n"
      ],
      "metadata": {
        "colab": {
          "base_uri": "https://localhost:8080/"
        },
        "id": "APDbTY77fq4H",
        "outputId": "262f76e6-875a-4514-8502-e3e6544894cc"
      },
      "execution_count": 14,
      "outputs": [
        {
          "output_type": "stream",
          "name": "stdout",
          "text": [
            "Enter a string to reverse: \"bishal\"\n",
            "Reversed string: \"lahsib\"\n"
          ]
        }
      ]
    },
    {
      "cell_type": "code",
      "source": [
        "#15\n",
        "number = int(input(\"Enter a number to calculate its factorial: \"))\n",
        "factorial = 1\n",
        "current = number\n",
        "if number < 0:\n",
        "    print(\"Factorial is not defined for negative numbers.\")\n",
        "elif number == 0:\n",
        "    print(\"The factorial of 0 is 1.\")\n",
        "else:\n",
        "    while current > 0:\n",
        "        factorial *= current\n",
        "        current -= 1\n",
        "    print(f\"The factorial of {number} is {factorial}.\")\n"
      ],
      "metadata": {
        "colab": {
          "base_uri": "https://localhost:8080/"
        },
        "id": "sar1LG-8giFM",
        "outputId": "a3b2cacc-0123-479e-92f1-798308705c8f"
      },
      "execution_count": 15,
      "outputs": [
        {
          "output_type": "stream",
          "name": "stdout",
          "text": [
            "Enter a number to calculate its factorial: 5\n",
            "The factorial of 5 is 120.\n"
          ]
        }
      ]
    }
  ]
}